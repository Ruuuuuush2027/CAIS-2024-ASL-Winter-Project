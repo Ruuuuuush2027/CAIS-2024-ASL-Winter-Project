{
 "cells": [
  {
   "cell_type": "code",
   "execution_count": 1,
   "id": "01efdf1d",
   "metadata": {},
   "outputs": [],
   "source": [
    "import torch, torchvision\n",
    "from torchvision.datasets import ImageFolder\n",
    "from torch.utils.data import DataLoader\n",
    "from torchvision import transforms\n",
    "from torchvision.transforms import functional\n",
    "from torch import nn\n",
    "from copy import deepcopy\n",
    "import time\n",
    "from torch.utils.data import random_split\n",
    "import numpy as np"
   ]
  },
  {
   "cell_type": "markdown",
   "id": "cfd9045e",
   "metadata": {},
   "source": [
    "First, import dataset"
   ]
  },
  {
   "cell_type": "code",
   "execution_count": 2,
   "id": "ab007413",
   "metadata": {},
   "outputs": [],
   "source": [
    "img_path = './ASLDataset'\n",
    "device = torch.device('cuda')\n",
    "torch.manual_seed(77)\n",
    "batch_size = 64"
   ]
  },
  {
   "cell_type": "markdown",
   "id": "2e6d86ad",
   "metadata": {},
   "source": [
    "Use torch.utils.data.Subset to split the train and test dataset"
   ]
  },
  {
   "cell_type": "code",
   "execution_count": 3,
   "id": "c35fe21c",
   "metadata": {},
   "outputs": [],
   "source": [
    "transform = transforms.Compose([\n",
    "    transforms.Resize(32),\n",
    "    transforms.RandomHorizontalFlip(),\n",
    "    transforms.ToTensor(),\n",
    "    transforms.Normalize(mean = [0.485, 0.456, 0.406], \n",
    "                         std = [0.229, 0.224, 0.225])\n",
    "])\n",
    "\n",
    "dataset = ImageFolder(root = 'ASLDataset/asl_alphabet_train', \n",
    "                      transform = transform)\n",
    "\n",
    "train_size = int(len(dataset) * .8)\n",
    "train_set = torch.utils.data.Subset(dataset, range(train_size))\n",
    "test_set = torch.utils.data.Subset(dataset, range(train_size, \n",
    "                                                  len(dataset)))\n",
    "\n",
    "train_loader = DataLoader(train_set, batch_size = batch_size, \n",
    "                          shuffle = True)\n",
    "test_loader = DataLoader(test_set, batch_size = batch_size, \n",
    "                         shuffle = True)\n",
    "\n",
    "class_names = dataset.classes\n",
    "num_classes = len(dataset.classes)"
   ]
  },
  {
   "cell_type": "markdown",
   "id": "d84b15d1",
   "metadata": {},
   "source": [
    "Transfer learning, and unfreeze only the last three datasets"
   ]
  },
  {
   "cell_type": "code",
   "execution_count": 4,
   "id": "9c85cb14",
   "metadata": {
    "scrolled": true
   },
   "outputs": [
    {
     "name": "stdout",
     "output_type": "stream",
     "text": [
      "VGG(\n",
      "  (features): Sequential(\n",
      "    (0): Conv2d(3, 64, kernel_size=(3, 3), stride=(1, 1), padding=(1, 1))\n",
      "    (1): ReLU(inplace=True)\n",
      "    (2): Conv2d(64, 64, kernel_size=(3, 3), stride=(1, 1), padding=(1, 1))\n",
      "    (3): ReLU(inplace=True)\n",
      "    (4): MaxPool2d(kernel_size=2, stride=2, padding=0, dilation=1, ceil_mode=False)\n",
      "    (5): Conv2d(64, 128, kernel_size=(3, 3), stride=(1, 1), padding=(1, 1))\n",
      "    (6): ReLU(inplace=True)\n",
      "    (7): Conv2d(128, 128, kernel_size=(3, 3), stride=(1, 1), padding=(1, 1))\n",
      "    (8): ReLU(inplace=True)\n",
      "    (9): MaxPool2d(kernel_size=2, stride=2, padding=0, dilation=1, ceil_mode=False)\n",
      "    (10): Conv2d(128, 256, kernel_size=(3, 3), stride=(1, 1), padding=(1, 1))\n",
      "    (11): ReLU(inplace=True)\n",
      "    (12): Conv2d(256, 256, kernel_size=(3, 3), stride=(1, 1), padding=(1, 1))\n",
      "    (13): ReLU(inplace=True)\n",
      "    (14): Conv2d(256, 256, kernel_size=(3, 3), stride=(1, 1), padding=(1, 1))\n",
      "    (15): ReLU(inplace=True)\n",
      "    (16): MaxPool2d(kernel_size=2, stride=2, padding=0, dilation=1, ceil_mode=False)\n",
      "    (17): Conv2d(256, 512, kernel_size=(3, 3), stride=(1, 1), padding=(1, 1))\n",
      "    (18): ReLU(inplace=True)\n",
      "    (19): Conv2d(512, 512, kernel_size=(3, 3), stride=(1, 1), padding=(1, 1))\n",
      "    (20): ReLU(inplace=True)\n",
      "    (21): Conv2d(512, 512, kernel_size=(3, 3), stride=(1, 1), padding=(1, 1))\n",
      "    (22): ReLU(inplace=True)\n",
      "    (23): MaxPool2d(kernel_size=2, stride=2, padding=0, dilation=1, ceil_mode=False)\n",
      "    (24): Conv2d(512, 512, kernel_size=(3, 3), stride=(1, 1), padding=(1, 1))\n",
      "    (25): ReLU(inplace=True)\n",
      "    (26): Conv2d(512, 512, kernel_size=(3, 3), stride=(1, 1), padding=(1, 1))\n",
      "    (27): ReLU(inplace=True)\n",
      "    (28): Conv2d(512, 512, kernel_size=(3, 3), stride=(1, 1), padding=(1, 1))\n",
      "    (29): ReLU(inplace=True)\n",
      "    (30): MaxPool2d(kernel_size=2, stride=2, padding=0, dilation=1, ceil_mode=False)\n",
      "  )\n",
      "  (avgpool): AdaptiveAvgPool2d(output_size=(7, 7))\n",
      "  (classifier): Sequential(\n",
      "    (0): Linear(in_features=25088, out_features=4096, bias=True)\n",
      "    (1): ReLU(inplace=True)\n",
      "    (2): Dropout(p=0.5, inplace=False)\n",
      "    (3): Linear(in_features=4096, out_features=512, bias=True)\n",
      "    (4): ReLU(inplace=True)\n",
      "    (5): Dropout(p=0.5, inplace=False)\n",
      "    (6): Linear(in_features=512, out_features=29, bias=True)\n",
      "  )\n",
      ")\n"
     ]
    }
   ],
   "source": [
    "intermediate_feature_num = 512\n",
    "model = torchvision.models.vgg16(pretrained = True)\n",
    "\n",
    "for n, param in enumerate(model.features.parameters()):\n",
    "    param.requires_grad = False\n",
    "\n",
    "in_features = model.classifier[3].in_features\n",
    "model.classifier[3] = nn.Linear(in_features, intermediate_feature_num)\n",
    "model.classifier[6] = nn.Linear(intermediate_feature_num, num_classes)\n",
    "\n",
    "print(model)"
   ]
  },
  {
   "cell_type": "markdown",
   "id": "d2c68d5a",
   "metadata": {},
   "source": [
    "check the layers are freezed besides the last few"
   ]
  },
  {
   "cell_type": "code",
   "execution_count": 5,
   "id": "1a43e6ff",
   "metadata": {
    "scrolled": true
   },
   "outputs": [
    {
     "name": "stdout",
     "output_type": "stream",
     "text": [
      "features.0.weight: requires_grad=False\n",
      "features.0.bias: requires_grad=False\n",
      "features.2.weight: requires_grad=False\n",
      "features.2.bias: requires_grad=False\n",
      "features.5.weight: requires_grad=False\n",
      "features.5.bias: requires_grad=False\n",
      "features.7.weight: requires_grad=False\n",
      "features.7.bias: requires_grad=False\n",
      "features.10.weight: requires_grad=False\n",
      "features.10.bias: requires_grad=False\n",
      "features.12.weight: requires_grad=False\n",
      "features.12.bias: requires_grad=False\n",
      "features.14.weight: requires_grad=False\n",
      "features.14.bias: requires_grad=False\n",
      "features.17.weight: requires_grad=False\n",
      "features.17.bias: requires_grad=False\n",
      "features.19.weight: requires_grad=False\n",
      "features.19.bias: requires_grad=False\n",
      "features.21.weight: requires_grad=False\n",
      "features.21.bias: requires_grad=False\n",
      "features.24.weight: requires_grad=False\n",
      "features.24.bias: requires_grad=False\n",
      "features.26.weight: requires_grad=False\n",
      "features.26.bias: requires_grad=False\n",
      "features.28.weight: requires_grad=False\n",
      "features.28.bias: requires_grad=False\n",
      "classifier.0.weight: requires_grad=True\n",
      "classifier.0.bias: requires_grad=True\n",
      "classifier.3.weight: requires_grad=True\n",
      "classifier.3.bias: requires_grad=True\n",
      "classifier.6.weight: requires_grad=True\n",
      "classifier.6.bias: requires_grad=True\n"
     ]
    }
   ],
   "source": [
    "# what parameters are trainable:\n",
    "for name, param in model.named_parameters():\n",
    "    print(f'{name}: requires_grad={param.requires_grad}')"
   ]
  },
  {
   "cell_type": "code",
   "execution_count": 6,
   "id": "067d3259",
   "metadata": {},
   "outputs": [],
   "source": [
    "model = model.to(device)\n",
    "criterion = nn.CrossEntropyLoss()\n",
    "optimizer = torch.optim.Adam(model.parameters(), lr = 0.001)\n",
    "exp_lr_scheduler = torch.optim.lr_scheduler.StepLR(optimizer, \n",
    "                                                   step_size = 50)"
   ]
  },
  {
   "cell_type": "markdown",
   "id": "485aa2f0",
   "metadata": {},
   "source": [
    "Train model"
   ]
  },
  {
   "cell_type": "code",
   "execution_count": 7,
   "id": "78de6799",
   "metadata": {},
   "outputs": [],
   "source": [
    "def train_model(model, criterion, optimizer, scheduler, num_epochs):\n",
    "    milestone = np.linspace(0, len(train_loader) - 1, 21).astype(np.int32)[1:-1]\n",
    "    t0 = time.time()\n",
    "    model.train()\n",
    "    length = len(train_loader)\n",
    "    \n",
    "    for epoch in range(num_epochs):\n",
    "        print(f'Epoch {epoch + 1}/{num_epochs}')\n",
    "        print('-' * 10)\n",
    "        running_loss = 0.0\n",
    "        running_corrects = 0\n",
    "        \n",
    "        for n, (inputs, labels) in enumerate(train_loader):\n",
    "            if n in milestone:\n",
    "                print(f'{(np.where(milestone==n)[0][0] + 1) * 5}%', end = \" \")\n",
    "            elif n == len(train_loader) - 1:\n",
    "                print(\"DONE\")\n",
    "                \n",
    "            inputs = inputs.to(device)\n",
    "            labels = labels.to(device)\n",
    "            \n",
    "            model.zero_grad()\n",
    "            \n",
    "            outputs = model(inputs)\n",
    "            loss = criterion(outputs, labels)\n",
    "            loss.backward()\n",
    "            optimizer.step()\n",
    "            \n",
    "            running_loss += loss.item() * inputs.size(0)\n",
    "            _, preds = torch.max(outputs, 1)\n",
    "            running_corrects += torch.sum(preds == labels.data)\n",
    "            \n",
    "        scheduler.step()\n",
    "        epoch_loss = running_loss / train_size\n",
    "        epoch_acc = running_corrects / train_size\n",
    "        \n",
    "        print(f'Training loss: {epoch_loss:.4f} Acc: {epoch_acc:.4f}')\n",
    "    \n",
    "    return model"
   ]
  },
  {
   "cell_type": "code",
   "execution_count": 46,
   "id": "36fa2e20",
   "metadata": {
    "scrolled": true
   },
   "outputs": [
    {
     "name": "stdout",
     "output_type": "stream",
     "text": [
      "Epoch 1/10\n",
      "----------\n",
      "5% 10% 15% 20% 25% 30% 35% 40% 45% 50% 55% 60% 65% 70% 75% 80% 85% 90% 95% DONE\n",
      "Training loss: 0.7714 Acc: 0.8040\n",
      "Epoch 2/10\n",
      "----------\n",
      "5% 10% 15% 20% 25% 30% 35% 40% 45% 50% 55% 60% 65% 70% 75% 80% 85% 90% 95% DONE\n",
      "Training loss: 0.6961 Acc: 0.8148\n",
      "Epoch 3/10\n",
      "----------\n",
      "5% 10% 15% 20% 25% 30% 35% 40% 45% 50% 55% 60% 65% 70% 75% 80% 85% 90% 95% DONE\n",
      "Training loss: 0.6797 Acc: 0.8216\n",
      "Epoch 4/10\n",
      "----------\n",
      "5% 10% 15% 20% 25% 30% 35% 40% 45% 50% 55% 60% 65% 70% 75% 80% 85% 90% 95% DONE\n",
      "Training loss: 0.7016 Acc: 0.8201\n",
      "Epoch 5/10\n",
      "----------\n",
      "5% 10% 15% 20% 25% 30% 35% 40% 45% 50% 55% 60% 65% 70% 75% 80% 85% 90% 95% DONE\n",
      "Training loss: 0.6780 Acc: 0.8262\n",
      "Epoch 6/10\n",
      "----------\n",
      "5% 10% 15% 20% 25% 30% 35% 40% 45% 50% 55% 60% 65% 70% 75% 80% 85% 90% 95% DONE\n",
      "Training loss: 0.6601 Acc: 0.8313\n",
      "Epoch 7/10\n",
      "----------\n",
      "5% 10% 15% 20% 25% 30% 35% 40% 45% 50% 55% 60% 65% 70% 75% 80% 85% 90% 95% DONE\n",
      "Training loss: 0.6550 Acc: 0.8334\n",
      "Epoch 8/10\n",
      "----------\n",
      "5% 10% 15% 20% 25% 30% 35% 40% 45% 50% 55% 60% 65% 70% 75% 80% 85% 90% 95% DONE\n",
      "Training loss: 0.6522 Acc: 0.8356\n",
      "Epoch 9/10\n",
      "----------\n",
      "5% 10% 15% 20% 25% 30% 35% 40% 45% 50% 55% 60% 65% 70% 75% 80% 85% 90% 95% DONE\n",
      "Training loss: 0.6435 Acc: 0.8385\n",
      "Epoch 10/10\n",
      "----------\n",
      "5% 10% 15% 20% 25% 30% 35% 40% 45% 50% 55% 60% 65% 70% 75% 80% 85% 90% 95% DONE\n",
      "Training loss: 0.6115 Acc: 0.8428\n"
     ]
    }
   ],
   "source": [
    "model = train_model(model, criterion, optimizer, exp_lr_scheduler, 10)"
   ]
  },
  {
   "cell_type": "markdown",
   "id": "f4540de2",
   "metadata": {},
   "source": [
    "save parameters in case of system crush"
   ]
  },
  {
   "cell_type": "code",
   "execution_count": 8,
   "id": "82caf485",
   "metadata": {},
   "outputs": [],
   "source": [
    "# torch.save(model.state_dict(), 'CAIS_2023_WinterProj_model_param.pth')\n",
    "model.load_state_dict(torch.load('CAIS_2023_WinterProj_model_param.pth'))\n",
    "model = model.to(device)"
   ]
  },
  {
   "cell_type": "markdown",
   "id": "d107c54e",
   "metadata": {},
   "source": [
    "Evaluate: severely overfitting (WTF)"
   ]
  },
  {
   "cell_type": "code",
   "execution_count": 9,
   "id": "e6c0784c",
   "metadata": {},
   "outputs": [
    {
     "name": "stdout",
     "output_type": "stream",
     "text": [
      "Testing Acc: 0.0136\n"
     ]
    }
   ],
   "source": [
    "# evaluates \n",
    "\n",
    "running_corrects = 0\n",
    "length = len(test_set)\n",
    "model.eval()\n",
    "\n",
    "y_true = []\n",
    "y_pred = []\n",
    "\n",
    "for n, (inputs, labels) in enumerate(test_loader):\n",
    "    inputs = inputs.to(device)\n",
    "    labels = labels.to(device)\n",
    "    \n",
    "    y_true.extend(labels.cpu().numpy())\n",
    "\n",
    "    outputs = model(inputs)\n",
    "    _, preds = torch.max(outputs, 1)\n",
    "    \n",
    "    y_pred.extend(preds.cpu().numpy())\n",
    "    \n",
    "    running_corrects += torch.sum(preds == labels.data)\n",
    "    \n",
    "\n",
    "epoch_acc = running_corrects / length\n",
    "\n",
    "print(f'Testing Acc: {epoch_acc:.4f}')"
   ]
  },
  {
   "cell_type": "code",
   "execution_count": 10,
   "id": "98f4a072",
   "metadata": {},
   "outputs": [
    {
     "name": "stdout",
     "output_type": "stream",
     "text": [
      "Accuracy: 0.013620689655172415\n",
      "Precision: 0.052303448275862065\n",
      "Recall: 0.013620689655172415\n",
      "F1 Score: 0.021612995155314903\n"
     ]
    },
    {
     "name": "stderr",
     "output_type": "stream",
     "text": [
      "C:\\Users\\maohe\\anaconda3\\lib\\site-packages\\sklearn\\metrics\\_classification.py:1469: UndefinedMetricWarning: Precision is ill-defined and being set to 0.0 in labels with no predicted samples. Use `zero_division` parameter to control this behavior.\n",
      "  _warn_prf(average, modifier, msg_start, len(result))\n",
      "C:\\Users\\maohe\\anaconda3\\lib\\site-packages\\sklearn\\metrics\\_classification.py:1469: UndefinedMetricWarning: Recall is ill-defined and being set to 0.0 in labels with no true samples. Use `zero_division` parameter to control this behavior.\n",
      "  _warn_prf(average, modifier, msg_start, len(result))\n"
     ]
    }
   ],
   "source": [
    "from sklearn.metrics import accuracy_score, precision_score, recall_score, f1_score\n",
    "\n",
    "accuracy = accuracy_score(y_true, y_pred)\n",
    "precision = precision_score(y_true, y_pred, average='weighted')\n",
    "recall = recall_score(y_true, y_pred, average='weighted')\n",
    "f1 = f1_score(y_true, y_pred, average='weighted')\n",
    "\n",
    "print(\"Accuracy:\", accuracy)\n",
    "print(\"Precision:\", precision)\n",
    "print(\"Recall:\", recall)\n",
    "print(\"F1 Score:\", f1)"
   ]
  }
 ],
 "metadata": {
  "kernelspec": {
   "display_name": "Python 3 (ipykernel)",
   "language": "python",
   "name": "python3"
  },
  "language_info": {
   "codemirror_mode": {
    "name": "ipython",
    "version": 3
   },
   "file_extension": ".py",
   "mimetype": "text/x-python",
   "name": "python",
   "nbconvert_exporter": "python",
   "pygments_lexer": "ipython3",
   "version": "3.9.12"
  }
 },
 "nbformat": 4,
 "nbformat_minor": 5
}
